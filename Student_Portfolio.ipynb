{
 "cells": [
  {
   "cell_type": "code",
   "execution_count": 24,
   "id": "d1a56a15",
   "metadata": {},
   "outputs": [
    {
     "name": "stdout",
     "output_type": "stream",
     "text": [
      "Name of Student :Manne Ashrit\n",
      "Enter Standard:X\n",
      "Enter Divsion:B\n",
      "Enter Roll.no:85\n",
      "Enter Science Marks out of 100:98\n",
      "Enter Math Marks out of 100:96\n",
      "Enter English Marks out of 100:92\n",
      "Student Portfolio\n",
      "Name: Manne Ashrit\n",
      "Standard: X\n",
      "Division: B\n",
      "Roll_No: 85\n",
      "Mark Sheet\n",
      "Science Marks: 98\n",
      "Math Marks: 96\n",
      "English Marks: 92\n",
      "Percentage: 95.33333333333334\n"
     ]
    }
   ],
   "source": [
    "\n",
    "name = str(input(\"Name of Student :\"))\n",
    "standard = str(input(\"Enter Standard:\"))\n",
    "division = str(input(\"Enter Divsion:\"))\n",
    "roll_no = str(input(\"Enter Roll.no:\"))\n",
    "science_marks = int(input(\"Enter Science Marks out of 100:\"))\n",
    "math_marks = int(input(\"Enter Math Marks out of 100:\"))\n",
    "english_marks = int(input(\"Enter English Marks out of 100:\"))\n",
    "percent = float((science_marks + math_marks + english_marks)/300*100)\n",
    "print(\"Student Portfolio\"+ \"\\n\" +\"Name:\"+\" \"+name + \"\\n\" + \"Standard:\"+\" \"+standard + \"\\n\" + \"Division:\"+\" \"+division + \"\\n\" + \"Roll_No:\"+\" \"+roll_no + \"\\n\"+\"Mark Sheet\"+ \"\\n\" + \"Science Marks:\"+\" \"+str(science_marks) + \"\\n\" +\"Math Marks:\"+\" \"+str(math_marks) + \"\\n\" + \"English Marks:\"+\" \"+str(english_marks) +\"\\n\" + \"Percentage:\"+\" \"+str(percent) )\n"
   ]
  },
  {
   "cell_type": "code",
   "execution_count": null,
   "id": "611a9fc8",
   "metadata": {},
   "outputs": [],
   "source": []
  }
 ],
 "metadata": {
  "kernelspec": {
   "display_name": "Python 3",
   "language": "python",
   "name": "python3"
  },
  "language_info": {
   "codemirror_mode": {
    "name": "ipython",
    "version": 3
   },
   "file_extension": ".py",
   "mimetype": "text/x-python",
   "name": "python",
   "nbconvert_exporter": "python",
   "pygments_lexer": "ipython3",
   "version": "3.8.8"
  }
 },
 "nbformat": 4,
 "nbformat_minor": 5
}
