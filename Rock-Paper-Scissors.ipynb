{
 "cells": [
  {
   "cell_type": "code",
   "execution_count": 24,
   "id": "75f83e01",
   "metadata": {},
   "outputs": [
    {
     "name": "stdout",
     "output_type": "stream",
     "text": [
      "Enter Rock/Paper/Scissors:Paper\n",
      "You Win\n"
     ]
    }
   ],
   "source": [
    "import random\n",
    "\n",
    "player = str(input(\"Enter Rock/Paper/Scissors:\"))\n",
    "choice_list = ['Rock', 'Paper', 'Scissors']\n",
    "# Generating a random element from choice_list for system using random.choice()\n",
    "sys_choice = random.choice(choice_list)\n",
    "\n",
    "if(player == sys_choice):                  # An instance both choices are same.\n",
    "    print(\"Tie\")\n",
    "else:                                      # If choices are not similar we will get 6 instances, 2 for each choice of player where you either win or Lose\n",
    "    if(player == 'Rock'):\n",
    "        if(sys_choice == 'Paper'):\n",
    "            print(\"You Lose\")\n",
    "        else:\n",
    "            print(\"You Win\")\n",
    "    elif(player == 'Paper'):\n",
    "        if(sys_choice == 'Scissors'):\n",
    "            print(\"You Lose\")\n",
    "        else:\n",
    "            print(\"You Win\")\n",
    "    else:\n",
    "        if(sys_choice == 'Rock'):\n",
    "                print(\"You Lose\")\n",
    "        else:\n",
    "            print(\"You Win\")\n",
    "            "
   ]
  },
  {
   "cell_type": "code",
   "execution_count": null,
   "id": "6ede1053",
   "metadata": {},
   "outputs": [],
   "source": []
  }
 ],
 "metadata": {
  "kernelspec": {
   "display_name": "Python 3",
   "language": "python",
   "name": "python3"
  },
  "language_info": {
   "codemirror_mode": {
    "name": "ipython",
    "version": 3
   },
   "file_extension": ".py",
   "mimetype": "text/x-python",
   "name": "python",
   "nbconvert_exporter": "python",
   "pygments_lexer": "ipython3",
   "version": "3.8.8"
  }
 },
 "nbformat": 4,
 "nbformat_minor": 5
}
